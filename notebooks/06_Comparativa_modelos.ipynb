{
 "cells": [
  {
   "cell_type": "markdown",
   "id": "cc21a2c2-2bca-4703-8c5b-94fdb2103253",
   "metadata": {},
   "source": [
    "# 06 — Comparativa Final de Modelos (CV)\n",
    "\n",
    "**Objetivo:** Presentar una comparación clara y directa del rendimiento de cada modelo optimizado (HGB, XGB, LGBM) y del modelo de Stacking, utilizando las métricas finales de validación cruzada.\n",
    "\n",
    "**Entradas:**\n",
    "- **API de MLflow:** Se conecta al servidor de tracking (DagsHub) para recuperar las métricas de los `runs` correspondientes al `stage` `train`.\n",
    "\n",
    "**Salidas:**\n",
    "- **Tabla Comparativa:** Un DataFrame ordenado que muestra el score final `rmsle_cv` para cada modelo.\n",
    "- **Gráfico de Barras:** Una visualización que permite comparar rápidamente el rendimiento de los modelos.\n",
    "\n",
    "**Dependencias:**\n",
    "- Requiere haber ejecutado el pipeline de DVC completo, incluyendo el `stage` `train` (`dvc repro train`)."
   ]
  },
  {
   "cell_type": "code",
   "execution_count": 1,
   "id": "e2aaf716-1a13-4459-ad7a-1e56d667562a",
   "metadata": {},
   "outputs": [
    {
     "name": "stderr",
     "output_type": "stream",
     "text": [
      "\u001b[32m2025-08-24 16:05:42.474\u001b[0m | \u001b[1mINFO    \u001b[0m | \u001b[36msrc.config\u001b[0m:\u001b[36m<module>\u001b[0m:\u001b[36m11\u001b[0m - \u001b[1mPROJ_ROOT path is: /home/fernando/Documentos/insurance-mlops\u001b[0m\n"
     ]
    },
    {
     "name": "stdout",
     "output_type": "stream",
     "text": [
      "\u001b[32m2025-08-24 16:05:42.484\u001b[0m | \u001b[1mINFO    \u001b[0m | \u001b[36m__main__\u001b[0m:\u001b[36m<module>\u001b[0m:\u001b[36m17\u001b[0m - \u001b[1mNotebook 06_model_baselines_cv iniciado.\u001b[0m\n",
      "\u001b[32m2025-08-24 16:05:42\u001b[0m | \u001b[1mINFO\u001b[0m | Notebook 06_model_baselines_cv iniciado.\n"
     ]
    }
   ],
   "source": [
    "%load_ext autoreload\n",
    "%autoreload 2\n",
    "\n",
    "import sys\n",
    "import mlflow\n",
    "import pandas as pd\n",
    "import matplotlib.pyplot as plt\n",
    "import seaborn as sns\n",
    "\n",
    "from src.logging_utils import setup_logger\n",
    "\n",
    "logger = setup_logger(\"model_baselines_cv\")\n",
    "sns.set(style=\"whitegrid\", palette=\"viridis\")\n",
    "logger.info(\"Notebook 06_model_baselines_cv iniciado.\")"
   ]
  },
  {
   "cell_type": "code",
   "execution_count": 2,
   "id": "6db796b1-0355-4d36-abed-c9826e5dfdd1",
   "metadata": {},
   "outputs": [
    {
     "name": "stdout",
     "output_type": "stream",
     "text": [
      "Conectado a MLflow Tracking URI: https://dagshub.com/fertueros/insurance-mlops.mlflow\n",
      "Experimentos encontrados:\n",
      "  - Nombre: hyperparameter-tuning, ID: 3\n",
      "  - Nombre: ml-pipeline, ID: 2\n",
      "  - Nombre: eda-baseline, ID: 0\n"
     ]
    }
   ],
   "source": [
    "import os\n",
    "os.environ['MLFLOW_TRACKING_URI'] = \"https://dagshub.com/fertueros/insurance-mlops.mlflow\"\n",
    "\n",
    "client = mlflow.tracking.MlflowClient()\n",
    "print(f\"Conectado a MLflow Tracking URI: {mlflow.get_tracking_uri()}\")\n",
    "print(\"Experimentos encontrados:\")\n",
    "for exp in client.search_experiments():\n",
    "    print(f\"  - Nombre: {exp.name}, ID: {exp.experiment_id}\")"
   ]
  },
  {
   "cell_type": "code",
   "execution_count": 3,
   "id": "e5986525-e497-4188-a0e2-1d2890c7a9f3",
   "metadata": {},
   "outputs": [],
   "source": [
    "EXPERIMENT_ID = \"2\""
   ]
  },
  {
   "cell_type": "code",
   "execution_count": 4,
   "id": "d3d46b89-a247-4427-8c0f-a8423942f1f1",
   "metadata": {},
   "outputs": [
    {
     "name": "stdout",
     "output_type": "stream",
     "text": [
      "\u001b[32m2025-08-24 16:05:43.298\u001b[0m | \u001b[1mINFO    \u001b[0m | \u001b[36m__main__\u001b[0m:\u001b[36m<module>\u001b[0m:\u001b[36m7\u001b[0m - \u001b[1mRun padre encontrado: 6b3677e7fe684ffcb10544115fef13d8\u001b[0m\n",
      "\u001b[32m2025-08-24 16:05:43\u001b[0m | \u001b[1mINFO\u001b[0m | Run padre encontrado: 6b3677e7fe684ffcb10544115fef13d8\n",
      "\u001b[32m2025-08-24 16:05:43.299\u001b[0m | \u001b[1mINFO    \u001b[0m | \u001b[36m__main__\u001b[0m:\u001b[36m<module>\u001b[0m:\u001b[36m11\u001b[0m - \u001b[1mSe encontraron 3 runs anidados.\u001b[0m\n",
      "\u001b[32m2025-08-24 16:05:43\u001b[0m | \u001b[1mINFO\u001b[0m | Se encontraron 3 runs anidados.\n"
     ]
    },
    {
     "data": {
      "text/html": [
       "<div>\n",
       "<style scoped>\n",
       "    .dataframe tbody tr th:only-of-type {\n",
       "        vertical-align: middle;\n",
       "    }\n",
       "\n",
       "    .dataframe tbody tr th {\n",
       "        vertical-align: top;\n",
       "    }\n",
       "\n",
       "    .dataframe thead th {\n",
       "        text-align: right;\n",
       "    }\n",
       "</style>\n",
       "<table border=\"1\" class=\"dataframe\">\n",
       "  <thead>\n",
       "    <tr style=\"text-align: right;\">\n",
       "      <th></th>\n",
       "      <th>model</th>\n",
       "      <th>rmsle_cv</th>\n",
       "    </tr>\n",
       "  </thead>\n",
       "  <tbody>\n",
       "    <tr>\n",
       "      <th>0</th>\n",
       "      <td>lgbm</td>\n",
       "      <td>1.131310</td>\n",
       "    </tr>\n",
       "    <tr>\n",
       "      <th>2</th>\n",
       "      <td>hgb</td>\n",
       "      <td>1.138243</td>\n",
       "    </tr>\n",
       "    <tr>\n",
       "      <th>1</th>\n",
       "      <td>xgb</td>\n",
       "      <td>1.140233</td>\n",
       "    </tr>\n",
       "  </tbody>\n",
       "</table>\n",
       "</div>"
      ],
      "text/plain": [
       "  model  rmsle_cv\n",
       "0  lgbm  1.131310\n",
       "2   hgb  1.138243\n",
       "1   xgb  1.140233"
      ]
     },
     "metadata": {},
     "output_type": "display_data"
    }
   ],
   "source": [
    "try:\n",
    "    runs_df = mlflow.search_runs(experiment_ids=[EXPERIMENT_ID], order_by=[\"start_time DESC\"])\n",
    "    \n",
    "    # Encontrar el último run padre (el que orquestó la CV final)\n",
    "    parent_run = runs_df[runs_df[\"tags.mlflow.runName\"] == \"train-cv\"].iloc[0]\n",
    "    parent_run_id = parent_run.run_id\n",
    "    logger.info(f\"Run padre encontrado: {parent_run_id}\")\n",
    "\n",
    "    # Filtrar para obtener solo los runs anidados (hijos) de ese padre\n",
    "    child_runs = runs_df[runs_df[\"tags.mlflow.parentRunId\"] == parent_run_id].copy()\n",
    "    logger.info(f\"Se encontraron {len(child_runs)} runs anidados.\")\n",
    "\n",
    "    # Extraer el nombre del modelo del runName y la métrica\n",
    "    child_runs[\"model\"] = child_runs[\"tags.mlflow.runName\"].str.replace(\"-cv\", \"\")\n",
    "    metrics_df = child_runs[[\"model\", \"metrics.rmsle_cv\"]].dropna()\n",
    "    metrics_df = metrics_df.rename(columns={\"metrics.rmsle_cv\": \"rmsle_cv\"})\n",
    "\n",
    "    # Ordenar por el mejor rendimiento\n",
    "    final_df = metrics_df.sort_values(\"rmsle_cv\")\n",
    "    \n",
    "    display(final_df)\n",
    "\n",
    "except Exception as e:\n",
    "    logger.error(f\"No se pudo cargar el experimento con ID '{EXPERIMENT_ID}': {e}\")\n",
    "    final_df = pd.DataFrame() # Crear un dataframe vacío para que la siguiente celda no falle"
   ]
  },
  {
   "cell_type": "code",
   "execution_count": 5,
   "id": "8b5eea85-501a-4646-a345-a889383cfb89",
   "metadata": {},
   "outputs": [
    {
     "name": "stdout",
     "output_type": "stream",
     "text": [
      "\u001b[32m2025-08-24 16:05:43.326\u001b[0m | \u001b[1mINFO    \u001b[0m | \u001b[36m__main__\u001b[0m:\u001b[36m<module>\u001b[0m:\u001b[36m2\u001b[0m - \u001b[1mGenerando gráfico de comparación.\u001b[0m\n",
      "\u001b[32m2025-08-24 16:05:43\u001b[0m | \u001b[1mINFO\u001b[0m | Generando gráfico de comparación.\n"
     ]
    },
    {
     "data": {
      "image/png": "[encoded data removed]",
      "text/plain": [
       "<Figure size 800x400 with 1 Axes>"
      ]
     },
     "metadata": {},
     "output_type": "display_data"
    }
   ],
   "source": [
    "if not final_df.empty:\n",
    "    logger.info(\"Generando gráfico de comparación.\")\n",
    "    plt.figure(figsize=(8, 4))\n",
    "    sns.barplot(\n",
    "    data=final_df, \n",
    "    x=\"rmsle_cv\", \n",
    "    y=\"model\", \n",
    "    hue=\"model\",       # <-- CORRECCIÓN 1: Asigna 'model' a 'hue'\n",
    "    palette=\"viridis\", \n",
    "    legend=False       # <-- CORRECCIÓN 2: Oculta la leyenda\n",
    ")\n",
    "    plt.xlabel(\"Root Mean Squared Logarithmic Error (RMSLE) - CV\")\n",
    "    plt.ylabel(\"Model\")\n",
    "    plt.title(\"Comparación del Rendimiento de Modelos (con Parámetros Optimizados)\")\n",
    "    plt.tight_layout();"
   ]
  },
  {
   "cell_type": "code",
   "execution_count": null,
   "id": "01078009-9807-4967-955a-81b143b9cd6b",
   "metadata": {},
   "outputs": [],
   "source": []
  }
 ],
 "metadata": {
  "kernelspec": {
   "display_name": "Python 3 (ipykernel)",
   "language": "python",
   "name": "python3"
  },
  "language_info": {
   "codemirror_mode": {
    "name": "ipython",
    "version": 3
   },
   "file_extension": ".py",
   "mimetype": "text/x-python",
   "name": "python",
   "nbconvert_exporter": "python",
   "pygments_lexer": "ipython3",
   "version": "3.11.13"
  }
 },
 "nbformat": 4,
 "nbformat_minor": 5
}
